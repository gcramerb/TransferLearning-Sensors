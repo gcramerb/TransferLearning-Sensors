{
 "cells": [
  {
   "cell_type": "code",
   "execution_count": 1,
   "id": "adjustable-merit",
   "metadata": {},
   "outputs": [],
   "source": [
    "import pandas as pd\n",
    "import os\n",
    "import numpy as np\n",
    "nClasses = 4"
   ]
  },
  {
   "cell_type": "code",
   "execution_count": 2,
   "id": "prescribed-colorado",
   "metadata": {},
   "outputs": [],
   "source": [
    "inPath = f'C:\\\\Users\\\\gcram\\\\Documents\\\\Smart Sense\\\\Datasets\\\\frankDataset_{nClasses}actv\\\\'\n",
    "source = 'Uschad'\n",
    "file = os.path.join(inPath, f\"{source}_to_Dsads_{nClasses}activities.npz\")\n",
    "with np.load(file,allow_pickle=True) as tmp:\n",
    "    X = tmp['X']\n",
    "    y_usc = tmp['y']\n",
    "source = 'Dsads'\n",
    "file = os.path.join(inPath, f\"{source}_to_Ucihar_{nClasses}activities.npz\")\n",
    "with np.load(file,allow_pickle=True) as tmp:\n",
    "    X = tmp['X']\n",
    "    y_dsa = tmp['y']\n",
    "source = 'Ucihar'\n",
    "file = os.path.join(inPath, f\"{source}_to_Dsads_{nClasses}activities.npz\")\n",
    "with np.load(file,allow_pickle=True) as tmp:\n",
    "    X = tmp['X']\n",
    "    y_uci = tmp['y']\n"
   ]
  },
  {
   "cell_type": "code",
   "execution_count": 3,
   "id": "descending-samuel",
   "metadata": {},
   "outputs": [],
   "source": [
    "y_dsa = [i.split('-')[1] for i in y_dsa]\n",
    "y_uci = [i.split('-')[1] for i in y_uci]\n",
    "y_usc = [i.split('-')[1] for i in y_usc]"
   ]
  },
  {
   "cell_type": "code",
   "execution_count": 4,
   "id": "posted-heaven",
   "metadata": {},
   "outputs": [],
   "source": [
    "translate = {}\n",
    "translate['ascending s'] = 'ascending stairs'\n",
    "translate['descending '] = 'descending stairs'\n",
    "translate['lying'] = \"lying\"\n",
    "translate['walking'] = \"walking\"\n",
    "\n",
    "y_dsa = [translate[i] for i in y_dsa]"
   ]
  },
  {
   "cell_type": "code",
   "execution_count": 5,
   "id": "approximate-istanbul",
   "metadata": {},
   "outputs": [
    {
     "data": {
      "text/plain": "array(['ascending stairs', 'descending stairs', 'lying', 'walking'],\n      dtype='<U17')"
     },
     "execution_count": 5,
     "metadata": {},
     "output_type": "execute_result"
    }
   ],
   "source": [
    "np.unique(y_dsa)"
   ]
  },
  {
   "cell_type": "code",
   "execution_count": 6,
   "id": "measured-trading",
   "metadata": {},
   "outputs": [
    {
     "data": {
      "text/plain": "array(['ascending stairs', 'descending stairs', 'lying', 'walking'],\n      dtype='<U17')"
     },
     "execution_count": 6,
     "metadata": {},
     "output_type": "execute_result"
    }
   ],
   "source": [
    "np.unique(y_uci)"
   ]
  },
  {
   "cell_type": "code",
   "execution_count": 7,
   "id": "ceramic-removal",
   "metadata": {},
   "outputs": [
    {
     "data": {
      "text/plain": "array(['ascending stairs', 'descending stairs', 'lying', 'walking'],\n      dtype='<U17')"
     },
     "execution_count": 7,
     "metadata": {},
     "output_type": "execute_result"
    }
   ],
   "source": [
    "np.unique(y_usc)"
   ]
  },
  {
   "cell_type": "code",
   "execution_count": 8,
   "id": "modified-collector",
   "metadata": {},
   "outputs": [],
   "source": [
    "\n",
    "data = {}\n",
    "data[\"Dsads\"] = pd.value_counts(y_dsa)\n",
    "data[\"Ucihar\"] = pd.value_counts(y_uci)\n",
    "data[\"Uschad\"] = pd.value_counts(y_usc)\n",
    "df = pd.DataFrame(data)"
   ]
  },
  {
   "cell_type": "code",
   "execution_count": 9,
   "id": "incident-siemens",
   "metadata": {},
   "outputs": [
    {
     "data": {
      "text/plain": "        ascending stairs  descending stairs  lying  walking\nDsads                480                480    960      480\nUcihar              1544               1406   1944     1722\nUschad               396                365    750     1752",
      "text/html": "<div>\n<style scoped>\n    .dataframe tbody tr th:only-of-type {\n        vertical-align: middle;\n    }\n\n    .dataframe tbody tr th {\n        vertical-align: top;\n    }\n\n    .dataframe thead th {\n        text-align: right;\n    }\n</style>\n<table border=\"1\" class=\"dataframe\">\n  <thead>\n    <tr style=\"text-align: right;\">\n      <th></th>\n      <th>ascending stairs</th>\n      <th>descending stairs</th>\n      <th>lying</th>\n      <th>walking</th>\n    </tr>\n  </thead>\n  <tbody>\n    <tr>\n      <th>Dsads</th>\n      <td>480</td>\n      <td>480</td>\n      <td>960</td>\n      <td>480</td>\n    </tr>\n    <tr>\n      <th>Ucihar</th>\n      <td>1544</td>\n      <td>1406</td>\n      <td>1944</td>\n      <td>1722</td>\n    </tr>\n    <tr>\n      <th>Uschad</th>\n      <td>396</td>\n      <td>365</td>\n      <td>750</td>\n      <td>1752</td>\n    </tr>\n  </tbody>\n</table>\n</div>"
     },
     "execution_count": 9,
     "metadata": {},
     "output_type": "execute_result"
    }
   ],
   "source": [
    "df.transpose()"
   ]
  },
  {
   "cell_type": "code",
   "execution_count": 10,
   "id": "formed-scientist",
   "metadata": {},
   "outputs": [
    {
     "ename": "AttributeError",
     "evalue": "'AxesSubplot' object has no attribute 'save'",
     "output_type": "error",
     "traceback": [
      "\u001B[1;31m---------------------------------------------------------------------------\u001B[0m",
      "\u001B[1;31mAttributeError\u001B[0m                            Traceback (most recent call last)",
      "\u001B[1;32m<ipython-input-10-88ae27b68582>\u001B[0m in \u001B[0;36m<module>\u001B[1;34m\u001B[0m\n\u001B[0;32m      3\u001B[0m \u001B[0mfig\u001B[0m\u001B[1;33m.\u001B[0m\u001B[0mset_xlabel\u001B[0m\u001B[1;33m(\u001B[0m\u001B[1;34m'Dataset'\u001B[0m\u001B[1;33m)\u001B[0m\u001B[1;33m\u001B[0m\u001B[1;33m\u001B[0m\u001B[0m\n\u001B[0;32m      4\u001B[0m \u001B[0mfig\u001B[0m\u001B[1;33m.\u001B[0m\u001B[0mset_ylabel\u001B[0m\u001B[1;33m(\u001B[0m\u001B[1;34m'Number of trials'\u001B[0m\u001B[1;33m)\u001B[0m\u001B[1;33m\u001B[0m\u001B[1;33m\u001B[0m\u001B[0m\n\u001B[1;32m----> 5\u001B[1;33m \u001B[0mfig\u001B[0m\u001B[1;33m.\u001B[0m\u001B[0msave\u001B[0m\u001B[1;33m(\u001B[0m\u001B[1;33m)\u001B[0m\u001B[1;33m\u001B[0m\u001B[1;33m\u001B[0m\u001B[0m\n\u001B[0m",
      "\u001B[1;31mAttributeError\u001B[0m: 'AxesSubplot' object has no attribute 'save'"
     ]
    },
    {
     "data": {
      "text/plain": "<Figure size 432x288 with 1 Axes>",
      "image/png": "[encoded data removed]"
     },
     "metadata": {
      "needs_background": "light"
     },
     "output_type": "display_data"
    }
   ],
   "source": [
    "col = {'walking':'red','ascending stairs':'blue','descending stairs':'yellow','lying':'orange'}\n",
    "fig = df.transpose().plot.bar(color = col,rot =0,title = 'Activities Distributions')\n",
    "fig.set_xlabel('Dataset')\n",
    "fig.set_ylabel('Number of trials')\n"
   ]
  },
  {
   "cell_type": "code",
   "execution_count": null,
   "id": "proprietary-hybrid",
   "metadata": {},
   "outputs": [],
   "source": []
  },
  {
   "cell_type": "code",
   "execution_count": 11,
   "id": "catholic-paraguay",
   "metadata": {},
   "outputs": [],
   "source": [
    "nClasses = 6\n",
    "inPath = f'C:\\\\Users\\\\gcram\\\\Documents\\\\Smart Sense\\\\Datasets\\\\frankDataset_{nClasses}actv\\\\'\n",
    "source = 'Uschad'\n",
    "file = os.path.join(inPath, f\"{source}_to_Dsads_{nClasses}activities.npz\")\n",
    "with np.load(file,allow_pickle=True) as tmp:\n",
    "    X = tmp['X']\n",
    "    y_usc = tmp['y']\n",
    "source = 'Dsads'\n",
    "file = os.path.join(inPath, f\"{source}_to_Ucihar_{nClasses}activities.npz\")\n",
    "with np.load(file,allow_pickle=True) as tmp:\n",
    "    X = tmp['X']\n",
    "    y_dsa = tmp['y']\n",
    "source = 'Ucihar'\n",
    "file = os.path.join(inPath, f\"{source}_to_Dsads_{nClasses}activities.npz\")\n",
    "with np.load(file,allow_pickle=True) as tmp:\n",
    "    X = tmp['X']\n",
    "    y_uci = tmp['y']\n"
   ]
  },
  {
   "cell_type": "code",
   "execution_count": 12,
   "id": "moving-graduation",
   "metadata": {},
   "outputs": [],
   "source": [
    "y_dsa = [i.split('-')[1] for i in y_dsa]\n",
    "y_uci = [i.split('-')[1] for i in y_uci]\n",
    "y_usc = [i.split('-')[1] for i in y_usc]"
   ]
  },
  {
   "cell_type": "code",
   "execution_count": 13,
   "id": "blond-history",
   "metadata": {},
   "outputs": [],
   "source": [
    "data = {}\n",
    "data[\"Dsads\"] = pd.value_counts(y_dsa)\n",
    "data[\"Ucihar\"] = pd.value_counts(y_uci)\n",
    "data[\"Uschad\"] = pd.value_counts(y_usc)\n",
    "df = pd.DataFrame(data).transpose()"
   ]
  },
  {
   "cell_type": "code",
   "execution_count": 14,
   "id": "gentle-system",
   "metadata": {},
   "outputs": [
    {
     "data": {
      "text/plain": "Text(0, 0.5, 'Number of trials')"
     },
     "execution_count": 14,
     "metadata": {},
     "output_type": "execute_result"
    },
    {
     "data": {
      "text/plain": "<Figure size 432x288 with 1 Axes>",
      "image/png": "[encoded data removed]"
     },
     "metadata": {
      "needs_background": "light"
     },
     "output_type": "display_data"
    }
   ],
   "source": [
    "col = {'walking':'red','ascending stairs':'blue','descending stairs':'yellow','lying':'orange','standing':'black','sitting':'green'}\n",
    "fig = df.plot.bar(color = col,rot =0,title = 'Activities Distributions')\n",
    "fig.set_xlabel('Dataset')\n",
    "fig.set_ylabel('Number of trials')"
   ]
  },
  {
   "cell_type": "code",
   "execution_count": null,
   "id": "surrounded-hotel",
   "metadata": {},
   "outputs": [],
   "source": []
  },
  {
   "cell_type": "code",
   "execution_count": null,
   "id": "adapted-reaction",
   "metadata": {},
   "outputs": [],
   "source": []
  },
  {
   "cell_type": "code",
   "execution_count": null,
   "id": "proper-requirement",
   "metadata": {},
   "outputs": [],
   "source": []
  }
 ],
 "metadata": {
  "kernelspec": {
   "display_name": "torch",
   "language": "python",
   "name": "torch"
  },
  "language_info": {
   "codemirror_mode": {
    "name": "ipython",
    "version": 3
   },
   "file_extension": ".py",
   "mimetype": "text/x-python",
   "name": "python",
   "nbconvert_exporter": "python",
   "pygments_lexer": "ipython3",
   "version": "3.7.9"
  }
 },
 "nbformat": 4,
 "nbformat_minor": 5
}