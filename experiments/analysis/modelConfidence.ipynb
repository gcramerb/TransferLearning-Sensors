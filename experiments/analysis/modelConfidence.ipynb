{
 "cells": [
  {
   "cell_type": "code",
   "execution_count": null,
   "id": "heated-hughes",
   "metadata": {},
   "outputs": [],
   "source": []
  },
  {
   "cell_type": "code",
   "execution_count": 1,
   "id": "baking-memorabilia",
   "metadata": {},
   "outputs": [],
   "source": [
    "import sys, argparse, os, glob\n",
    "import numpy as np\n",
    "from sklearn.metrics import accuracy_score, confusion_matrix, f1_score\n",
    "from pytorch_lightning.loggers import WandbLogger\n",
    "sys.path.insert(0, '../')\n",
    "from pytorch_lightning import Trainer\n",
    "from dataProcessing.dataModule import SingleDatasetModule\n",
    "from models.pseudoLabSelection import getPseudoLabel\n",
    "from trainers.trainerClf import ClfModel\n",
    "from trainers.trainerTL import TLmodel\n",
    "from Utils.myUtils import  MCI,getTeacherParams,getPLS_params"
   ]
  },
  {
   "cell_type": "code",
   "execution_count": 5,
   "id": "applied-afternoon",
   "metadata": {},
   "outputs": [],
   "source": [
    "inPath = 'C:\\\\Users\\\\gcram\\\\Documents\\\\Smart Sense\\\\Datasets\\\\frankDataset\\\\originalWindFreq\\\\'\n",
    "params_path = 'C:\\\\Users\\\\gcram\\\\Documents\\\\GitHub\\\\TransferLearning-Sensors\\\\experiments\\\\params\\\\V5\\\\'\n",
    "save_path = 'C:\\\\Users\\\\gcram\\\\Documents\\\\GitHub\\\\TransferLearning-Sensors\\\\saved\\\\teacherOficialV5\\\\'\n",
    "\n",
    "\n",
    "datasetList = ['Dsads','Ucihar','Uschad','Pamap2']\n",
    "n_classes = 4 \n",
    "source = 'Uschad'\n",
    "target = 'Ucihar'\n",
    "model = \"V5\"\n",
    "paramsPath = os.path.join(params_path, \"Disc\" + source[:3] + target[:3] + \".json\")\n",
    "teacherParams = getTeacherParams(paramsPath)\n"
   ]
  },
  {
   "cell_type": "code",
   "execution_count": 7,
   "id": "mathematical-honolulu",
   "metadata": {},
   "outputs": [],
   "source": []
  },
  {
   "cell_type": "code",
   "execution_count": 8,
   "id": "applicable-plaintiff",
   "metadata": {},
   "outputs": [
    {
     "ename": "FileNotFoundError",
     "evalue": "[Errno 2] No such file or directory: 'C:\\\\Users\\\\gcram\\\\Documents\\\\GitHub\\\\TransferLearning-Sensors\\\\saved\\\\teacherOficialV5\\\\TeacherTLmodel(\\n  (FE): Encoder(\\n    (CNN1): ModuleList(\\n      (0): Sequential(\\n        (0): Conv2d(2, 8, kernel_size=(5, 3), stride=(1, 1), padding=same, groups=2)\\n        (1): BatchNorm2d(8, eps=1e-05, momentum=0.1, affine=True, track_running_stats=True)\\n        (2): MaxPool2d(kernel_size=(2, 3), stride=(2, 3), padding=0, dilation=1, ceil_mode=False)\\n        (3): LeakyReLU(negative_slope=0.01)\\n      )\\n      (1): Sequential(\\n        (0): Conv2d(2, 16, kernel_size=(25, 3), stride=(1, 1), padding=same, groups=2)\\n        (1): BatchNorm2d(16, eps=1e-05, momentum=0.1, affine=True, track_running_stats=True)\\n        (2): MaxPool2d(kernel_size=(2, 3), stride=(2, 3), padding=0, dilation=1, ceil_mode=False)\\n        (3): LeakyReLU(negative_slope=0.01)\\n      )\\n    )\\n    (DenseLayer): Sequential(\\n      (0): Conv2d(24, 26, kernel_size=(5, 3), stride=(1, 1), padding=same)\\n      (1): BatchNorm2d(26, eps=1e-05, momentum=0.1, affine=True, track_running_stats=True)\\n      (2): LeakyReLU(negative_slope=0.01)\\n      (3): MaxPool2d(kernel_size=(5, 1), stride=(5, 1), padding=0, dilation=1, ceil_mode=False)\\n      (4): Flatten(start_dim=1, end_dim=-1)\\n      (5): Linear(in_features=1300, out_features=128, bias=True)\\n      (6): BatchNorm1d(128, eps=1e-05, momentum=0.1, affine=True, track_running_stats=True)\\n    )\\n  )\\n  (Disc): discriminator(\\n    (layer): Sequential(\\n      (0): Linear(in_features=128, out_features=64, bias=True)\\n      (1): BatchNorm1d(64, eps=1e-05, momentum=0.1, affine=True, track_running_stats=True)\\n      (2): LeakyReLU(negative_slope=0.01)\\n      (3): Dropout(p=0.2, inplace=False)\\n      (4): Linear(in_features=64, out_features=4, bias=True)\\n      (5): Softmax(dim=1)\\n    )\\n  )\\n  (clfLoss): CrossEntropyLoss()\\n  (classDist): CenterLoss()\\n  (discLoss): OTLoss(\\n    (lossFunc): SamplesLoss()\\n  )\\n)_UschadAllOriginal_UciharAllOriginal_feature_extractor'",
     "output_type": "error",
     "traceback": [
      "\u001B[1;31m---------------------------------------------------------------------------\u001B[0m",
      "\u001B[1;31mFileNotFoundError\u001B[0m                         Traceback (most recent call last)",
      "\u001B[1;32m<ipython-input-8-2c79c41087af>\u001B[0m in \u001B[0;36m<module>\u001B[1;34m\u001B[0m\n\u001B[0;32m     16\u001B[0m \u001B[0mmodel\u001B[0m\u001B[1;33m.\u001B[0m\u001B[0msetDatasets\u001B[0m\u001B[1;33m(\u001B[0m\u001B[0mdm_target\u001B[0m \u001B[1;33m=\u001B[0m \u001B[0mdm_target\u001B[0m\u001B[1;33m)\u001B[0m\u001B[1;33m\u001B[0m\u001B[1;33m\u001B[0m\u001B[0m\n\u001B[0;32m     17\u001B[0m \u001B[0mmodel\u001B[0m\u001B[1;33m.\u001B[0m\u001B[0mcreate_model\u001B[0m\u001B[1;33m(\u001B[0m\u001B[1;33m)\u001B[0m\u001B[1;33m\u001B[0m\u001B[1;33m\u001B[0m\u001B[0m\n\u001B[1;32m---> 18\u001B[1;33m \u001B[0mmodel\u001B[0m\u001B[1;33m.\u001B[0m\u001B[0mload_params\u001B[0m\u001B[1;33m(\u001B[0m\u001B[0msave_path\u001B[0m\u001B[1;33m,\u001B[0m \u001B[1;34mf'Teacher{model}_{source}AllOriginal_{target}AllOriginal'\u001B[0m\u001B[1;33m)\u001B[0m\u001B[1;33m\u001B[0m\u001B[1;33m\u001B[0m\u001B[0m\n\u001B[0m\u001B[0;32m     19\u001B[0m \u001B[0mpredT\u001B[0m \u001B[1;33m=\u001B[0m \u001B[0mmodel\u001B[0m\u001B[1;33m.\u001B[0m\u001B[0mgetPredict\u001B[0m\u001B[1;33m(\u001B[0m\u001B[0mdomain\u001B[0m\u001B[1;33m=\u001B[0m\u001B[1;34m'Target'\u001B[0m\u001B[1;33m)\u001B[0m\u001B[1;33m\u001B[0m\u001B[1;33m\u001B[0m\u001B[0m\n\u001B[0;32m     20\u001B[0m \u001B[0mpred\u001B[0m \u001B[1;33m=\u001B[0m \u001B[1;33m{\u001B[0m\u001B[1;33m}\u001B[0m\u001B[1;33m\u001B[0m\u001B[1;33m\u001B[0m\u001B[0m\n",
      "\u001B[1;32m~\\Documents\\GitHub\\TransferLearning-Sensors\\trainers\\trainerTL.py\u001B[0m in \u001B[0;36mload_params\u001B[1;34m(self, save_path, file)\u001B[0m\n\u001B[0;32m     80\u001B[0m         \u001B[1;32mdef\u001B[0m \u001B[0mload_params\u001B[0m\u001B[1;33m(\u001B[0m\u001B[0mself\u001B[0m\u001B[1;33m,\u001B[0m \u001B[0msave_path\u001B[0m\u001B[1;33m,\u001B[0m \u001B[0mfile\u001B[0m\u001B[1;33m)\u001B[0m\u001B[1;33m:\u001B[0m\u001B[1;33m\u001B[0m\u001B[1;33m\u001B[0m\u001B[0m\n\u001B[0;32m     81\u001B[0m                 \u001B[0mPATH\u001B[0m \u001B[1;33m=\u001B[0m \u001B[0mos\u001B[0m\u001B[1;33m.\u001B[0m\u001B[0mpath\u001B[0m\u001B[1;33m.\u001B[0m\u001B[0mjoin\u001B[0m\u001B[1;33m(\u001B[0m\u001B[0msave_path\u001B[0m\u001B[1;33m,\u001B[0m \u001B[0mfile\u001B[0m \u001B[1;33m+\u001B[0m \u001B[1;34m'_feature_extractor'\u001B[0m\u001B[1;33m)\u001B[0m\u001B[1;33m\u001B[0m\u001B[1;33m\u001B[0m\u001B[0m\n\u001B[1;32m---> 82\u001B[1;33m                 \u001B[0mself\u001B[0m\u001B[1;33m.\u001B[0m\u001B[0mFE\u001B[0m\u001B[1;33m.\u001B[0m\u001B[0mload_state_dict\u001B[0m\u001B[1;33m(\u001B[0m\u001B[0mtorch\u001B[0m\u001B[1;33m.\u001B[0m\u001B[0mload\u001B[0m\u001B[1;33m(\u001B[0m\u001B[0mPATH\u001B[0m\u001B[1;33m)\u001B[0m\u001B[1;33m)\u001B[0m\u001B[1;33m\u001B[0m\u001B[1;33m\u001B[0m\u001B[0m\n\u001B[0m\u001B[0;32m     83\u001B[0m                 \u001B[0mPATH\u001B[0m \u001B[1;33m=\u001B[0m \u001B[0mos\u001B[0m\u001B[1;33m.\u001B[0m\u001B[0mpath\u001B[0m\u001B[1;33m.\u001B[0m\u001B[0mjoin\u001B[0m\u001B[1;33m(\u001B[0m\u001B[0msave_path\u001B[0m\u001B[1;33m,\u001B[0m \u001B[0mfile\u001B[0m \u001B[1;33m+\u001B[0m \u001B[1;34m'_discriminator'\u001B[0m\u001B[1;33m)\u001B[0m\u001B[1;33m\u001B[0m\u001B[1;33m\u001B[0m\u001B[0m\n\u001B[0;32m     84\u001B[0m                 \u001B[0mself\u001B[0m\u001B[1;33m.\u001B[0m\u001B[0mDisc\u001B[0m\u001B[1;33m.\u001B[0m\u001B[0mload_state_dict\u001B[0m\u001B[1;33m(\u001B[0m\u001B[0mtorch\u001B[0m\u001B[1;33m.\u001B[0m\u001B[0mload\u001B[0m\u001B[1;33m(\u001B[0m\u001B[0mPATH\u001B[0m\u001B[1;33m)\u001B[0m\u001B[1;33m)\u001B[0m\u001B[1;33m\u001B[0m\u001B[1;33m\u001B[0m\u001B[0m\n",
      "\u001B[1;32mc:\\users\\gcram\\miniconda3\\envs\\torch_env\\lib\\site-packages\\torch\\serialization.py\u001B[0m in \u001B[0;36mload\u001B[1;34m(f, map_location, pickle_module, **pickle_load_args)\u001B[0m\n\u001B[0;32m    592\u001B[0m         \u001B[0mpickle_load_args\u001B[0m\u001B[1;33m[\u001B[0m\u001B[1;34m'encoding'\u001B[0m\u001B[1;33m]\u001B[0m \u001B[1;33m=\u001B[0m \u001B[1;34m'utf-8'\u001B[0m\u001B[1;33m\u001B[0m\u001B[1;33m\u001B[0m\u001B[0m\n\u001B[0;32m    593\u001B[0m \u001B[1;33m\u001B[0m\u001B[0m\n\u001B[1;32m--> 594\u001B[1;33m     \u001B[1;32mwith\u001B[0m \u001B[0m_open_file_like\u001B[0m\u001B[1;33m(\u001B[0m\u001B[0mf\u001B[0m\u001B[1;33m,\u001B[0m \u001B[1;34m'rb'\u001B[0m\u001B[1;33m)\u001B[0m \u001B[1;32mas\u001B[0m \u001B[0mopened_file\u001B[0m\u001B[1;33m:\u001B[0m\u001B[1;33m\u001B[0m\u001B[1;33m\u001B[0m\u001B[0m\n\u001B[0m\u001B[0;32m    595\u001B[0m         \u001B[1;32mif\u001B[0m \u001B[0m_is_zipfile\u001B[0m\u001B[1;33m(\u001B[0m\u001B[0mopened_file\u001B[0m\u001B[1;33m)\u001B[0m\u001B[1;33m:\u001B[0m\u001B[1;33m\u001B[0m\u001B[1;33m\u001B[0m\u001B[0m\n\u001B[0;32m    596\u001B[0m             \u001B[1;31m# The zipfile reader is going to advance the current file position.\u001B[0m\u001B[1;33m\u001B[0m\u001B[1;33m\u001B[0m\u001B[1;33m\u001B[0m\u001B[0m\n",
      "\u001B[1;32mc:\\users\\gcram\\miniconda3\\envs\\torch_env\\lib\\site-packages\\torch\\serialization.py\u001B[0m in \u001B[0;36m_open_file_like\u001B[1;34m(name_or_buffer, mode)\u001B[0m\n\u001B[0;32m    228\u001B[0m \u001B[1;32mdef\u001B[0m \u001B[0m_open_file_like\u001B[0m\u001B[1;33m(\u001B[0m\u001B[0mname_or_buffer\u001B[0m\u001B[1;33m,\u001B[0m \u001B[0mmode\u001B[0m\u001B[1;33m)\u001B[0m\u001B[1;33m:\u001B[0m\u001B[1;33m\u001B[0m\u001B[1;33m\u001B[0m\u001B[0m\n\u001B[0;32m    229\u001B[0m     \u001B[1;32mif\u001B[0m \u001B[0m_is_path\u001B[0m\u001B[1;33m(\u001B[0m\u001B[0mname_or_buffer\u001B[0m\u001B[1;33m)\u001B[0m\u001B[1;33m:\u001B[0m\u001B[1;33m\u001B[0m\u001B[1;33m\u001B[0m\u001B[0m\n\u001B[1;32m--> 230\u001B[1;33m         \u001B[1;32mreturn\u001B[0m \u001B[0m_open_file\u001B[0m\u001B[1;33m(\u001B[0m\u001B[0mname_or_buffer\u001B[0m\u001B[1;33m,\u001B[0m \u001B[0mmode\u001B[0m\u001B[1;33m)\u001B[0m\u001B[1;33m\u001B[0m\u001B[1;33m\u001B[0m\u001B[0m\n\u001B[0m\u001B[0;32m    231\u001B[0m     \u001B[1;32melse\u001B[0m\u001B[1;33m:\u001B[0m\u001B[1;33m\u001B[0m\u001B[1;33m\u001B[0m\u001B[0m\n\u001B[0;32m    232\u001B[0m         \u001B[1;32mif\u001B[0m \u001B[1;34m'w'\u001B[0m \u001B[1;32min\u001B[0m \u001B[0mmode\u001B[0m\u001B[1;33m:\u001B[0m\u001B[1;33m\u001B[0m\u001B[1;33m\u001B[0m\u001B[0m\n",
      "\u001B[1;32mc:\\users\\gcram\\miniconda3\\envs\\torch_env\\lib\\site-packages\\torch\\serialization.py\u001B[0m in \u001B[0;36m__init__\u001B[1;34m(self, name, mode)\u001B[0m\n\u001B[0;32m    209\u001B[0m \u001B[1;32mclass\u001B[0m \u001B[0m_open_file\u001B[0m\u001B[1;33m(\u001B[0m\u001B[0m_opener\u001B[0m\u001B[1;33m)\u001B[0m\u001B[1;33m:\u001B[0m\u001B[1;33m\u001B[0m\u001B[1;33m\u001B[0m\u001B[0m\n\u001B[0;32m    210\u001B[0m     \u001B[1;32mdef\u001B[0m \u001B[0m__init__\u001B[0m\u001B[1;33m(\u001B[0m\u001B[0mself\u001B[0m\u001B[1;33m,\u001B[0m \u001B[0mname\u001B[0m\u001B[1;33m,\u001B[0m \u001B[0mmode\u001B[0m\u001B[1;33m)\u001B[0m\u001B[1;33m:\u001B[0m\u001B[1;33m\u001B[0m\u001B[1;33m\u001B[0m\u001B[0m\n\u001B[1;32m--> 211\u001B[1;33m         \u001B[0msuper\u001B[0m\u001B[1;33m(\u001B[0m\u001B[0m_open_file\u001B[0m\u001B[1;33m,\u001B[0m \u001B[0mself\u001B[0m\u001B[1;33m)\u001B[0m\u001B[1;33m.\u001B[0m\u001B[0m__init__\u001B[0m\u001B[1;33m(\u001B[0m\u001B[0mopen\u001B[0m\u001B[1;33m(\u001B[0m\u001B[0mname\u001B[0m\u001B[1;33m,\u001B[0m \u001B[0mmode\u001B[0m\u001B[1;33m)\u001B[0m\u001B[1;33m)\u001B[0m\u001B[1;33m\u001B[0m\u001B[1;33m\u001B[0m\u001B[0m\n\u001B[0m\u001B[0;32m    212\u001B[0m \u001B[1;33m\u001B[0m\u001B[0m\n\u001B[0;32m    213\u001B[0m     \u001B[1;32mdef\u001B[0m \u001B[0m__exit__\u001B[0m\u001B[1;33m(\u001B[0m\u001B[0mself\u001B[0m\u001B[1;33m,\u001B[0m \u001B[1;33m*\u001B[0m\u001B[0margs\u001B[0m\u001B[1;33m)\u001B[0m\u001B[1;33m:\u001B[0m\u001B[1;33m\u001B[0m\u001B[1;33m\u001B[0m\u001B[0m\n",
      "\u001B[1;31mFileNotFoundError\u001B[0m: [Errno 2] No such file or directory: 'C:\\\\Users\\\\gcram\\\\Documents\\\\GitHub\\\\TransferLearning-Sensors\\\\saved\\\\teacherOficialV5\\\\TeacherTLmodel(\\n  (FE): Encoder(\\n    (CNN1): ModuleList(\\n      (0): Sequential(\\n        (0): Conv2d(2, 8, kernel_size=(5, 3), stride=(1, 1), padding=same, groups=2)\\n        (1): BatchNorm2d(8, eps=1e-05, momentum=0.1, affine=True, track_running_stats=True)\\n        (2): MaxPool2d(kernel_size=(2, 3), stride=(2, 3), padding=0, dilation=1, ceil_mode=False)\\n        (3): LeakyReLU(negative_slope=0.01)\\n      )\\n      (1): Sequential(\\n        (0): Conv2d(2, 16, kernel_size=(25, 3), stride=(1, 1), padding=same, groups=2)\\n        (1): BatchNorm2d(16, eps=1e-05, momentum=0.1, affine=True, track_running_stats=True)\\n        (2): MaxPool2d(kernel_size=(2, 3), stride=(2, 3), padding=0, dilation=1, ceil_mode=False)\\n        (3): LeakyReLU(negative_slope=0.01)\\n      )\\n    )\\n    (DenseLayer): Sequential(\\n      (0): Conv2d(24, 26, kernel_size=(5, 3), stride=(1, 1), padding=same)\\n      (1): BatchNorm2d(26, eps=1e-05, momentum=0.1, affine=True, track_running_stats=True)\\n      (2): LeakyReLU(negative_slope=0.01)\\n      (3): MaxPool2d(kernel_size=(5, 1), stride=(5, 1), padding=0, dilation=1, ceil_mode=False)\\n      (4): Flatten(start_dim=1, end_dim=-1)\\n      (5): Linear(in_features=1300, out_features=128, bias=True)\\n      (6): BatchNorm1d(128, eps=1e-05, momentum=0.1, affine=True, track_running_stats=True)\\n    )\\n  )\\n  (Disc): discriminator(\\n    (layer): Sequential(\\n      (0): Linear(in_features=128, out_features=64, bias=True)\\n      (1): BatchNorm1d(64, eps=1e-05, momentum=0.1, affine=True, track_running_stats=True)\\n      (2): LeakyReLU(negative_slope=0.01)\\n      (3): Dropout(p=0.2, inplace=False)\\n      (4): Linear(in_features=64, out_features=4, bias=True)\\n      (5): Softmax(dim=1)\\n    )\\n  )\\n  (clfLoss): CrossEntropyLoss()\\n  (classDist): CenterLoss()\\n  (discLoss): OTLoss(\\n    (lossFunc): SamplesLoss()\\n  )\\n)_UschadAllOriginal_UciharAllOriginal_feature_extractor'"
     ]
    }
   ],
   "source": [
    "\n",
    "dm_target = SingleDatasetModule(data_dir=inPath,\n",
    "                                datasetName=\"\",\n",
    "                                input_shape=2,\n",
    "                                n_classes=4,\n",
    "                                batch_size=128,\n",
    "                                oneHotLabel = False,\n",
    "                                shuffle=True)\n",
    "dm_target.setup(normalize=False, fileName=f\"{target}AllOriginal_target_{source}AllOriginal.npz\")\n",
    "teacherParams['input_shape'] = dm_target.dataTrain.X.shape[1:]\n",
    "model = TLmodel(trainParams=teacherParams,\n",
    "                n_classes=4,\n",
    "                lossParams=None,\n",
    "                save_path=None,\n",
    "                class_weight=None)\n",
    "\n",
    "model.setDatasets(dm_target = dm_target)\n",
    "model.create_model()\n",
    "model.load_params(save_path, f'Teacher{model}_{source}AllOriginal_{target}AllOriginal')\n",
    "predT = model.getPredict(domain='Target')\n",
    "pred = {}\n",
    "pred['latent'] = predT['latentTarget']\n",
    "pred['pred']   = predT['predTarget']\n",
    "pred['true']   = predT['trueTarget']\n",
    "pred['probs']  = predT['probTarget']\n",
    "pred['data']   = predT['dataTarget']\n"
   ]
  },
  {
   "cell_type": "code",
   "execution_count": 15,
   "id": "composed-differential",
   "metadata": {},
   "outputs": [
    {
     "data": {
      "image/png": "[encoded data removed]",
      "text/plain": [
       "<Figure size 432x288 with 1 Axes>"
      ]
     },
     "metadata": {
      "needs_background": "light"
     },
     "output_type": "display_data"
    }
   ],
   "source": [
    "def plotAcuracyPerConfidenceLevel(true,predictions,probs):\n",
    "    accIni = accuracy_score(true, predictions)\n",
    "    accIni = round(100*accIni,2)\n",
    "    f1Ini = f1_score(true, predictions,average = 'weighted')\n",
    "    cm = confusion_matrix(true,predictions)\n",
    "    #probs = probs.max(axis = 1)\n",
    "    correct = []\n",
    "    total = []\n",
    "    x = []\n",
    "    accList = []\n",
    "    for i in range(0,10):\n",
    "        a = np.where(probs>i/10)[0]\n",
    "        b = np.where(probs<i/10 + 0.1)[0]\n",
    "        x.append(i/10)\n",
    "        idx = np.intersect1d(a, b)\n",
    "        if len(idx)>0:\n",
    "            acc = accuracy_score(true[idx],predictions[idx])\n",
    "            correct.append(acc*len(idx))\n",
    "            total.append(len(idx)*1.0)\n",
    "            accList.append(round(100*acc,2))\n",
    "        else:\n",
    "            correct.append(0.0)\n",
    "            total.append(0.0)\n",
    "            accList.append(0.0)\n",
    "    df = pd.DataFrame(total,columns = ['total'],index = x)\n",
    "    ax = plt.axes()\n",
    "    df.plot(kind = 'bar',stacked=True,title = f'{source} to {target} ({accIni})',ax = ax,color = 'orange')\n",
    "    df = pd.DataFrame(correct,columns = ['correct'],index = x)\n",
    "    df.plot(kind = 'bar',stacked=True,ax = ax,color = 'green')\n",
    "    i = 0\n",
    "    for p in ax.patches:\n",
    "        if i>9:\n",
    "            ax.annotate(str(accList[i-10]), (p.get_x() * 1.005, p.get_height() * 1.005))\n",
    "        i = i+1\n"
   ]
  },
  {
   "cell_type": "markdown",
   "id": "intimate-vertex",
   "metadata": {},
   "source": [
    "### GMM confidence analize"
   ]
  },
  {
   "cell_type": "code",
   "execution_count": null,
   "id": "prospective-modern",
   "metadata": {},
   "outputs": [],
   "source": [
    "selectionParamList  = getPLS_params()\n",
    "params = selectionParamList[0]\n",
    "softLabelIdx = []\n",
    "softLabelGenerated = []\n",
    "X = []\n",
    "Ytrue = []\n",
    "selectedIdx = []\n",
    "if params['nClusters'] > len(latent):\n",
    "    return X, softLabelGenerated, Ytrue, selectedIdx\n",
    "\n",
    "gm = GaussianMixture(n_components=params['nClusters'], random_state=0).fit(latent)\n",
    "softLabel = np.argmax(probs, axis=1)\n",
    "GMMprobs = gm.predict_proba(latent)  # (n_samples, n_components)\n",
    "GMMprobs = np.max(GMMprobs, axis=1)\n",
    "\n",
    "plotAcuracyPerConfidenceLevel(pred['true',pred['pred'],GMMprobs):"
   ]
  },
  {
   "cell_type": "code",
   "execution_count": 39,
   "id": "fatty-timer",
   "metadata": {},
   "outputs": [
    {
     "data": {
      "text/plain": [
       "20"
      ]
     },
     "execution_count": 39,
     "metadata": {},
     "output_type": "execute_result"
    }
   ],
   "source": [
    "\n"
   ]
  },
  {
   "cell_type": "code",
   "execution_count": 25,
   "id": "personal-latest",
   "metadata": {},
   "outputs": [
    {
     "data": {
      "text/html": [
       "<div>\n",
       "<style scoped>\n",
       "    .dataframe tbody tr th:only-of-type {\n",
       "        vertical-align: middle;\n",
       "    }\n",
       "\n",
       "    .dataframe tbody tr th {\n",
       "        vertical-align: top;\n",
       "    }\n",
       "\n",
       "    .dataframe thead th {\n",
       "        text-align: right;\n",
       "    }\n",
       "</style>\n",
       "<table border=\"1\" class=\"dataframe\">\n",
       "  <thead>\n",
       "    <tr style=\"text-align: right;\">\n",
       "      <th></th>\n",
       "      <th>correct</th>\n",
       "      <th>total</th>\n",
       "    </tr>\n",
       "  </thead>\n",
       "  <tbody>\n",
       "    <tr>\n",
       "      <th>0.0</th>\n",
       "      <td>0.0</td>\n",
       "      <td>0</td>\n",
       "    </tr>\n",
       "    <tr>\n",
       "      <th>0.1</th>\n",
       "      <td>0.0</td>\n",
       "      <td>0</td>\n",
       "    </tr>\n",
       "    <tr>\n",
       "      <th>0.2</th>\n",
       "      <td>0.0</td>\n",
       "      <td>0</td>\n",
       "    </tr>\n",
       "    <tr>\n",
       "      <th>0.3</th>\n",
       "      <td>9.0</td>\n",
       "      <td>22</td>\n",
       "    </tr>\n",
       "    <tr>\n",
       "      <th>0.4</th>\n",
       "      <td>30.0</td>\n",
       "      <td>83</td>\n",
       "    </tr>\n",
       "    <tr>\n",
       "      <th>0.5</th>\n",
       "      <td>95.0</td>\n",
       "      <td>257</td>\n",
       "    </tr>\n",
       "    <tr>\n",
       "      <th>0.6</th>\n",
       "      <td>92.0</td>\n",
       "      <td>250</td>\n",
       "    </tr>\n",
       "    <tr>\n",
       "      <th>0.7</th>\n",
       "      <td>137.0</td>\n",
       "      <td>330</td>\n",
       "    </tr>\n",
       "    <tr>\n",
       "      <th>0.8</th>\n",
       "      <td>229.0</td>\n",
       "      <td>497</td>\n",
       "    </tr>\n",
       "    <tr>\n",
       "      <th>0.9</th>\n",
       "      <td>3730.0</td>\n",
       "      <td>5321</td>\n",
       "    </tr>\n",
       "  </tbody>\n",
       "</table>\n",
       "</div>"
      ],
      "text/plain": [
       "     correct  total\n",
       "0.0      0.0      0\n",
       "0.1      0.0      0\n",
       "0.2      0.0      0\n",
       "0.3      9.0     22\n",
       "0.4     30.0     83\n",
       "0.5     95.0    257\n",
       "0.6     92.0    250\n",
       "0.7    137.0    330\n",
       "0.8    229.0    497\n",
       "0.9   3730.0   5321"
      ]
     },
     "execution_count": 25,
     "metadata": {},
     "output_type": "execute_result"
    }
   ],
   "source": [
    "df"
   ]
  }
 ],
 "metadata": {
  "kernelspec": {
   "display_name": "torch",
   "language": "python",
   "name": "torch"
  },
  "language_info": {
   "codemirror_mode": {
    "name": "ipython",
    "version": 3
   },
   "file_extension": ".py",
   "mimetype": "text/x-python",
   "name": "python",
   "nbconvert_exporter": "python",
   "pygments_lexer": "ipython3",
   "version": "3.7.9"
  }
 },
 "nbformat": 4,
 "nbformat_minor": 5
}