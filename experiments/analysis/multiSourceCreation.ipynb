{
 "cells": [
  {
   "cell_type": "code",
   "execution_count": 4,
   "metadata": {
    "collapsed": true
   },
   "outputs": [],
   "source": [
    "import os,random\n",
    "import numpy as np\n",
    "import pandas as pd\n",
    "import seaborn as sns\n",
    "import matplotlib as mpl\n",
    "import matplotlib.pyplot as plt\n",
    "dir_save_file = 'C:\\\\Users\\\\gcram\\\\Documents\\\\Smart Sense\\\\Datasets\\\\frankDataset_6actv\\\\'\n",
    "# dir_save_file ='C:\\\\Users\\\\gcram\\\\Documents\\\\Smart Sense\\\\Datasets\\\\frankDataset\\\\originalWindFreq\\\\'\n",
    "datasetList = ['Dsads','Ucihar','Uschad']\n",
    "n_classes = 6"
   ]
  },
  {
   "cell_type": "code",
   "execution_count": 32,
   "outputs": [],
   "source": [
    "def readDataset(fileName):\n",
    "    file = os.path.join(dir_save_file, f'{fileName}.npz')\n",
    "    with np.load(file, allow_pickle=True) as tmp:\n",
    "        X = tmp['X'].astype('float32')\n",
    "        Y = tmp['y']\n",
    "    return X,Y\n",
    "def downSample(x):\n",
    "    newX = []\n",
    "    for x_i in x:\n",
    "        xdown = [x_i[i] for i in range(len(x_i)) if i%2==0]\n",
    "        newX.append(xdown)\n",
    "    return np.array(newX)\n",
    "def normalize(X,Y):\n",
    "    newX = []\n",
    "    newY = []\n",
    "    m = np.array([np.mean(X[: :, i]) for i in range(X.shape[-1])])\n",
    "    std = np.array([np.std(X[:,:, i]) for i in range(X.shape[-1])])\n",
    "    for sample,label in zip(X,Y):\n",
    "        sample = (sample - m)/std\n",
    "        newX.append(sample)\n",
    "        newY.append(label)\n",
    "    newX, newY = np.array(newX), np.array(newY)\n",
    "    return newX,newY\n",
    "def addZeros(dat1,dif):\n",
    "    \"\"\"\n",
    "    merging zeros into dat 1\n",
    "    \"\"\"\n",
    "    difLeft = int(dif/2)\n",
    "    difRight =difLeft  +  dif%2\n",
    "    test = np.concatenate((np.zeros([dat1.shape[0],difLeft,dat1.shape[2]]),dat1),axis = 1)\n",
    "    test = np.concatenate((test,np.zeros([dat1.shape[0],difRight,dat1.shape[2]])),axis = 1)\n",
    "    return test\n",
    "\n"
   ],
   "metadata": {
    "collapsed": false,
    "pycharm": {
     "name": "#%%\n"
    }
   }
  },
  {
   "cell_type": "code",
   "execution_count": 33,
   "outputs": [],
   "source": [
    "usc_ori,y_usc = readDataset(\"Uschad_6activities\")\n",
    "dsa,y_dsa = readDataset(\"Dsads_6activities\")\n",
    "uci,y_uci = readDataset(\"Ucihar_6activities\")\n",
    "usc = downSample(usc_ori)\n",
    "\n",
    "dsa,y_dsa = normalize(dsa,y_dsa)\n",
    "usc,y_usc = normalize(usc,y_usc)\n",
    "uci,y_uci = normalize(uci,y_uci)"
   ],
   "metadata": {
    "collapsed": false,
    "pycharm": {
     "name": "#%%\n"
    }
   }
  },
  {
   "cell_type": "code",
   "execution_count": 34,
   "outputs": [
    {
     "name": "stdout",
     "output_type": "stream",
     "text": [
      "(3360, 125, 6)\n",
      "(10297, 128, 6)\n",
      "(3999, 250, 6)\n"
     ]
    }
   ],
   "source": [
    "print(dsa.shape)\n",
    "print(uci.shape)\n",
    "print(usc.shape)"
   ],
   "metadata": {
    "collapsed": false,
    "pycharm": {
     "name": "#%%\n"
    }
   }
  },
  {
   "cell_type": "markdown",
   "source": [
    "### Saving Uschad (target)"
   ],
   "metadata": {
    "collapsed": false,
    "pycharm": {
     "name": "#%% md\n"
    }
   }
  },
  {
   "cell_type": "code",
   "execution_count": 35,
   "outputs": [
    {
     "name": "stdout",
     "output_type": "stream",
     "text": [
      "(3999, 250, 6)\n"
     ]
    }
   ],
   "source": [
    "dim = 250\n",
    "uscProcessed = addZeros(usc,dim - usc.shape[1])\n",
    "print(uscProcessed.shape)\n",
    "dir_save_file = 'C:\\\\Users\\\\gcram\\\\Documents\\\\Smart Sense\\\\Datasets\\\\frankDataset_6actv\\\\'\n",
    "np.savez_compressed(os.path.join(dir_save_file, f\"Uschad_MultiSource\"),\n",
    "                X=uscProcessed,\n",
    "                y=y_usc)"
   ],
   "metadata": {
    "collapsed": false,
    "pycharm": {
     "name": "#%%\n"
    }
   }
  },
  {
   "cell_type": "markdown",
   "source": [
    "### Saving Ucihar (target)"
   ],
   "metadata": {
    "collapsed": false,
    "pycharm": {
     "name": "#%% md\n"
    }
   }
  },
  {
   "cell_type": "code",
   "execution_count": 36,
   "outputs": [
    {
     "name": "stdout",
     "output_type": "stream",
     "text": [
      "(10297, 250, 6)\n"
     ]
    }
   ],
   "source": [
    "dim = 250\n",
    "uciProcessed = addZeros(uci,dim - uci.shape[1])\n",
    "print(uciProcessed.shape)\n",
    "dir_save_file = 'C:\\\\Users\\\\gcram\\\\Documents\\\\Smart Sense\\\\Datasets\\\\frankDataset_6actv\\\\'\n",
    "np.savez_compressed(os.path.join(dir_save_file, f\"Ucihar_MultiSource\"),\n",
    "                X=uciProcessed,\n",
    "                y=y_uci)"
   ],
   "metadata": {
    "collapsed": false,
    "pycharm": {
     "name": "#%%\n"
    }
   }
  },
  {
   "cell_type": "markdown",
   "source": [
    "### Saving Dsads (target)"
   ],
   "metadata": {
    "collapsed": false,
    "pycharm": {
     "name": "#%% md\n"
    }
   }
  },
  {
   "cell_type": "code",
   "execution_count": 37,
   "outputs": [
    {
     "name": "stdout",
     "output_type": "stream",
     "text": [
      "(3360, 250, 6)\n"
     ]
    }
   ],
   "source": [
    "dim = 250\n",
    "dsaProcessed = addZeros(dsa,dim - dsa.shape[1])\n",
    "print(dsaProcessed.shape)\n",
    "dir_save_file = 'C:\\\\Users\\\\gcram\\\\Documents\\\\Smart Sense\\\\Datasets\\\\frankDataset_6actv\\\\'\n",
    "np.savez_compressed(os.path.join(dir_save_file, f\"Dsads_MultiSource\"),\n",
    "                X=dsaProcessed,\n",
    "                y=y_dsa)"
   ],
   "metadata": {
    "collapsed": false,
    "pycharm": {
     "name": "#%%\n"
    }
   }
  },
  {
   "cell_type": "markdown",
   "source": [
    "### saving muiltisource:"
   ],
   "metadata": {
    "collapsed": false,
    "pycharm": {
     "name": "#%% md\n"
    }
   }
  },
  {
   "cell_type": "code",
   "execution_count": 38,
   "outputs": [],
   "source": [
    "dsa_usc = np.concatenate([dsaProcessed,uscProcessed],axis = 0)\n",
    "dsa_uci = np.concatenate([dsaProcessed,uciProcessed],axis = 0)\n",
    "uci_usc = np.concatenate([uciProcessed,uscProcessed],axis = 0)\n",
    "dsa_usc_y = np.concatenate([y_dsa,y_usc],axis = 0)\n",
    "dsa_uci_y = np.concatenate([y_dsa,y_uci],axis = 0)\n",
    "uci_usc_y = np.concatenate([y_uci,y_usc],axis = 0)\n"
   ],
   "metadata": {
    "collapsed": false,
    "pycharm": {
     "name": "#%%\n"
    }
   }
  },
  {
   "cell_type": "code",
   "execution_count": 40,
   "outputs": [],
   "source": [
    "np.savez_compressed(os.path.join(dir_save_file, f\"Dsads_and_Uschad\"),\n",
    "                X=dsa_usc,\n",
    "                y=dsa_usc_y)\n",
    "np.savez_compressed(os.path.join(dir_save_file, f\"Dsads_and_Ucihar\"),\n",
    "                X=dsa_uci,\n",
    "                y=dsa_uci_y)\n",
    "np.savez_compressed(os.path.join(dir_save_file, f\"Ucihar_and_Uschad\"),\n",
    "                X=uci_usc,\n",
    "                y=uci_usc_y)"
   ],
   "metadata": {
    "collapsed": false,
    "pycharm": {
     "name": "#%%\n"
    }
   }
  },
  {
   "cell_type": "code",
   "execution_count": 40,
   "outputs": [],
   "source": [],
   "metadata": {
    "collapsed": false,
    "pycharm": {
     "name": "#%%\n"
    }
   }
  },
  {
   "cell_type": "code",
   "execution_count": null,
   "outputs": [],
   "source": [],
   "metadata": {
    "collapsed": false,
    "pycharm": {
     "name": "#%%\n"
    }
   }
  },
  {
   "cell_type": "code",
   "execution_count": null,
   "outputs": [],
   "source": [],
   "metadata": {
    "collapsed": false,
    "pycharm": {
     "name": "#%%\n"
    }
   }
  }
 ],
 "metadata": {
  "kernelspec": {
   "display_name": "Python 3",
   "language": "python",
   "name": "python3"
  },
  "language_info": {
   "codemirror_mode": {
    "name": "ipython",
    "version": 2
   },
   "file_extension": ".py",
   "mimetype": "text/x-python",
   "name": "python",
   "nbconvert_exporter": "python",
   "pygments_lexer": "ipython2",
   "version": "2.7.6"
  }
 },
 "nbformat": 4,
 "nbformat_minor": 0
}